{
 "cells": [
  {
   "cell_type": "code",
   "execution_count": 1,
   "metadata": {
    "collapsed": true
   },
   "outputs": [],
   "source": [
    "import tensorflow as tf\n",
    "import numpy as np"
   ]
  },
  {
   "cell_type": "markdown",
   "metadata": {
    "collapsed": true
   },
   "source": [
    "Simulate N by D data for logistic regression."
   ]
  },
  {
   "cell_type": "code",
   "execution_count": 4,
   "metadata": {
    "collapsed": false
   },
   "outputs": [
    {
     "name": "stdout",
     "output_type": "stream",
     "text": [
      "(20, 4)\n",
      "(20, 1)\n"
     ]
    }
   ],
   "source": [
    "N = 20\n",
    "D = 4\n",
    "beta_true = np.random.uniform(-1, 1, 4).reshape((D, 1))\n",
    "dataX = np.random.normal(0, 1, N * D).reshape(N, D)\n",
    "prob = 1.0 / (1.0 + np.exp(-np.dot(dataX, beta_true)))\n",
    "dataY = np.random.binomial(1, prob) * 1.0\n",
    "print(dataX.shape)\n",
    "print(dataY.shape)"
   ]
  },
  {
   "cell_type": "markdown",
   "metadata": {},
   "source": [
    "Placeholding tensors are for variables. Their dimensions must be declared."
   ]
  },
  {
   "cell_type": "code",
   "execution_count": 7,
   "metadata": {
    "collapsed": true
   },
   "outputs": [],
   "source": [
    "X = tf.placeholder('float', [None, D]) \n",
    "Y = tf.placeholder('float', [None, 1])"
   ]
  },
  {
   "cell_type": "markdown",
   "metadata": {},
   "source": [
    "Variable is for parameters. The initial values are randomly drawn from Normal distribution."
   ]
  },
  {
   "cell_type": "code",
   "execution_count": 6,
   "metadata": {
    "collapsed": false
   },
   "outputs": [],
   "source": [
    "beta = tf.Variable(tf.random_normal([D, 1], stddev=1.0))"
   ]
  },
  {
   "cell_type": "markdown",
   "metadata": {},
   "source": [
    "Perceptron output with sigmoid activation is also predicted probability."
   ]
  },
  {
   "cell_type": "code",
   "execution_count": 11,
   "metadata": {
    "collapsed": true
   },
   "outputs": [],
   "source": [
    "pred = 1.0 / (1.0 + tf.exp(-tf.matmul(X, beta)))"
   ]
  },
  {
   "cell_type": "markdown",
   "metadata": {},
   "source": [
    "Binary cross entropy loss or negative log likelihood."
   ]
  },
  {
   "cell_type": "code",
   "execution_count": 12,
   "metadata": {
    "collapsed": false
   },
   "outputs": [],
   "source": [
    "loss = -1.0 * (tf.reduce_sum(Y * tf.log(pred) + (1.0 - Y) * tf.log(1 - pred)))"
   ]
  },
  {
   "cell_type": "markdown",
   "metadata": {},
   "source": [
    "**Ingredients for gradient descent**"
   ]
  },
  {
   "cell_type": "code",
   "execution_count": 13,
   "metadata": {
    "collapsed": false
   },
   "outputs": [],
   "source": [
    "grad = tf.gradients(loss, beta)"
   ]
  },
  {
   "cell_type": "code",
   "execution_count": 14,
   "metadata": {
    "collapsed": false
   },
   "outputs": [
    {
     "name": "stdout",
     "output_type": "stream",
     "text": [
      "[<tf.Tensor 'gradients/MatMul_grad/MatMul_1:0' shape=(4, 1) dtype=float32>]\n"
     ]
    }
   ],
   "source": [
    "print(grad)"
   ]
  },
  {
   "cell_type": "code",
   "execution_count": 16,
   "metadata": {
    "collapsed": false
   },
   "outputs": [],
   "source": [
    "delta = tf.placeholder('float', [D, 1])\n",
    "step = beta.assign_add(delta)"
   ]
  },
  {
   "cell_type": "markdown",
   "metadata": {},
   "source": [
    "**Exercise 3**"
   ]
  },
  {
   "cell_type": "code",
   "execution_count": 18,
   "metadata": {
    "collapsed": false
   },
   "outputs": [
    {
     "name": "stdout",
     "output_type": "stream",
     "text": [
      "Current beta: [ 0.22412297  0.6724183   0.5185366  -1.5185701 ]\n",
      "Current beta: [ 0.20883518  0.1961411   0.6965184  -1.274985  ]\n",
      "Current beta: [ 0.15965374 -0.18006286  0.8309034  -1.0933487 ]\n",
      "Current beta: [ 0.09479149 -0.47391707  0.9306526  -0.9733024 ]\n",
      "Current beta: [ 0.02802605 -0.70508134  1.0055956  -0.9020382 ]\n",
      "Current beta: [-0.03353162 -0.8902539   1.0634917  -0.8643212 ]\n",
      "Current beta: [-0.08741981 -1.0418029   1.1096554  -0.8480482 ]\n",
      "Current beta: [-0.13351047 -1.1683577   1.1475556  -0.8450162 ]\n",
      "Current beta: [-0.1725963  -1.2758726   1.1794589  -0.84999675]\n",
      "Current beta: [-0.20571366 -1.3685105   1.2068775  -0.8597198 ]\n"
     ]
    }
   ],
   "source": [
    "step_size = 0.1\n",
    "n_step = 10\n",
    "with tf.Session() as sess:\n",
    "    tf.global_variables_initializer().run()\n",
    "    for i in range(n_step):\n",
    "        # compute gradient\n",
    "        g = sess.run(grad, feed_dict={X: dataX, Y: dataY})[0]\n",
    "        # TODO\n",
    "        print('Current beta: {}'.format(beta.eval().reshape(D)))"
   ]
  },
  {
   "cell_type": "code",
   "execution_count": null,
   "metadata": {
    "collapsed": true
   },
   "outputs": [],
   "source": []
  }
 ],
 "metadata": {
  "anaconda-cloud": {},
  "kernelspec": {
   "display_name": "Python [conda env:tensorflow]",
   "language": "python",
   "name": "conda-env-tensorflow-py"
  },
  "language_info": {
   "codemirror_mode": {
    "name": "ipython",
    "version": 2
   },
   "file_extension": ".py",
   "mimetype": "text/x-python",
   "name": "python",
   "nbconvert_exporter": "python",
   "pygments_lexer": "ipython2",
   "version": "2.7.13"
  }
 },
 "nbformat": 4,
 "nbformat_minor": 1
}
